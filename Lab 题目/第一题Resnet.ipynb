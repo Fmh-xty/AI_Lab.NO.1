{
 "cells": [
  {
   "cell_type": "code",
   "execution_count": 223,
   "metadata": {},
   "outputs": [],
   "source": [
    "import torch\n",
    "from torch import nn\n",
    "import torchvision\n",
    "from torch.utils import data\n",
    "from torchvision import transforms\n",
    "from d2l import torch as d2l\n",
    "from torch.nn import functional as F\n",
    "from torch.optim import lr_scheduler\n",
    "import math\n",
    "def get_dataloader_workers():\n",
    "    return 4\n",
    "def load_data_CIFAR100(batch_size,train_augs=None,test_augs=None,resize=None):  \n",
    "    trans = [transforms.ToTensor()]\n",
    "    if resize:\n",
    "        trans.insert(0, transforms.Resize(resize))\n",
    "    trans = transforms.Compose(trans)\n",
    "    if train_augs == None:\n",
    "        CIFAR100_train = torchvision.datasets.CIFAR100(root=\"/root/autodl-tmp/data\",train=True,transform=trans,download=True)\n",
    "        CIFAR100_test = torchvision.datasets.CIFAR100(root=\"/root/autodl-tmp/data\",train=False,transform=trans,download=True)\n",
    "    else:\n",
    "        CIFAR100_train = torchvision.datasets.CIFAR100(root=\"/root/autodl-tmp/data\",train=True,transform=train_augs,download=True)\n",
    "        CIFAR100_test = torchvision.datasets.CIFAR100(root=\"/root/autodl-tmp/data\",train=False,transform=test_augs,download=True)\n",
    "    return (data.DataLoader(CIFAR100_train, batch_size, shuffle=True,num_workers=get_dataloader_workers()),\n",
    "            data.DataLoader(CIFAR100_test, batch_size, shuffle=False,num_workers=get_dataloader_workers()))"
   ]
  },
  {
   "cell_type": "code",
   "execution_count": null,
   "metadata": {},
   "outputs": [],
   "source": [
    "finetune_net = torchvision.models.resnet18(pretrained=True)\n",
    "finetune_net.fc = nn.Linear(finetune_net.fc.in_features, 100)\n",
    "nn.init.kaiming_uniform_(finetune_net.fc.weight)"
   ]
  },
  {
   "cell_type": "code",
   "execution_count": 229,
   "metadata": {},
   "outputs": [],
   "source": [
    "def train(net, train_iter, test_iter, num_epochs, loss, trainer, device,scheduler=None):\n",
    "    # def init_weights(m):\n",
    "    #     if type(m) == nn.Linear or type(m) == nn.Conv2d:\n",
    "    #         nn.init.xavier_uniform_(m.weight)\n",
    "    # net.apply(init_weights)\n",
    "    # print('training on', device)\n",
    "    net.to(device)\n",
    "    loss = loss\n",
    "    animator = d2l.Animator(xlabel='epoch', xlim=[1, num_epochs],legend=['train loss', 'train acc', 'test acc'])\n",
    "    timer, num_batches = d2l.Timer(), len(train_iter)\n",
    "    for epoch in range(num_epochs):\n",
    "        metric = d2l.Accumulator(4)\n",
    "        for i, (features, labels) in enumerate(train_iter):\n",
    "            timer.start()\n",
    "            X,y=features,labels\n",
    "            X = X.to(device)\n",
    "            y = y.to(device)\n",
    "            net.train()\n",
    "            trainer.zero_grad()\n",
    "            pred = net(X)\n",
    "            l = loss(pred, y)\n",
    "            l.sum().backward()\n",
    "            trainer.step()\n",
    "            train_loss_sum = l.sum()\n",
    "            train_acc_sum = d2l.accuracy(pred, y)\n",
    "            metric.add(train_loss_sum, train_acc_sum, labels.shape[0], labels.numel())\n",
    "            timer.stop()\n",
    "            if (i + 1) % (num_batches // 5) == 0 or i == num_batches - 1:\n",
    "                animator.add(epoch + (i + 1) / num_batches,\n",
    "                             (metric[0] / metric[2], metric[1] / metric[3],\n",
    "                              None))\n",
    "        test_acc = d2l.evaluate_accuracy_gpu(net, test_iter)\n",
    "        animator.add(epoch + 1, (None, None, test_acc))\n",
    "        if scheduler:\n",
    "            if scheduler.__module__==lr_scheduler.__name__:\n",
    "                scheduler.step()\n",
    "            else:\n",
    "                for param_group in trainer.param_groups:\n",
    "                    param_group['lr']=scheduler(epoch)\n",
    "                    \n",
    "            \n",
    "    print(f'loss {metric[0] / metric[2]:.3f}, train acc '\n",
    "          f'{metric[1] / metric[3]:.3f}, test acc {test_acc:.3f}')\n",
    "    print(f'{metric[2] * num_epochs / timer.sum():.1f} examples/sec on '\n",
    "          f'{str(device)}')"
   ]
  },
  {
   "cell_type": "code",
   "execution_count": 230,
   "metadata": {},
   "outputs": [],
   "source": [
    "def train_fine_tuning(net, train_iter, test_iter,lr, num_epochs, loss, device,\n",
    "                      scheduler=None,\n",
    "                      param_group=True):\n",
    "    if param_group:\n",
    "        params_1x = [\n",
    "            param for name, param in net.named_parameters()\n",
    "            if name not in [\"fc.weight\", \"fc.bias\"]]\n",
    "        trainer = torch.optim.Adam([{'params': params_1x},\n",
    "                                   {'params': net.fc.parameters(),\n",
    "                                    'lr': lr * 10}],\n",
    "                                  lr=lr,weight_decay=0.001)\n",
    "    else:\n",
    "        trainer = torch.optim.Adam(net.parameters(), lr=lr,weight_decay=0.001)\n",
    "    train(net, train_iter, test_iter, num_epochs, loss, trainer, device)"
   ]
  },
  {
   "cell_type": "code",
   "execution_count": null,
   "metadata": {},
   "outputs": [],
   "source": [
    "lr,num_epochs, batch_size =5e-5, 8, 128\n",
    "mean = [0.5070751592371323, 0.48654887331495095, 0.4409178433670343]\n",
    "std = [0.2673342858792401, 0.2564384629170883, 0.27615047132568404]\n",
    "train_augs =transforms.Compose([\n",
    "    transforms.Resize(256),\n",
    "    transforms.RandomCrop(224),\n",
    "    torchvision.transforms.RandomHorizontalFlip(),\n",
    "    torchvision.transforms.ColorJitter(brightness=0, contrast=0, saturation=0,hue=0.5),\n",
    "    transforms.ToTensor(),\n",
    "    transforms.Normalize(mean, std)\n",
    "])\n",
    "test_augs=transforms.Compose([\n",
    "    transforms.Resize(256),\n",
    "    transforms.RandomCrop(224),\n",
    "    transforms.ToTensor(),\n",
    "    transforms.Normalize(mean, std)\n",
    "])\n",
    "loss=nn.CrossEntropyLoss(reduction=\"none\",label_smoothing=0.1)\n",
    "device=d2l.try_gpu()\n",
    "net=finetune_net\n",
    "train_iter, test_iter = load_data_CIFAR100(batch_size,train_augs=train_augs,test_augs=test_augs)\n",
    "train_fine_tuning(net, train_iter, test_iter,lr, num_epochs,loss, device)"
   ]
  }
 ],
 "metadata": {
  "kernelspec": {
   "display_name": "base",
   "language": "python",
   "name": "python3"
  },
  "language_info": {
   "codemirror_mode": {
    "name": "ipython",
    "version": 3
   },
   "file_extension": ".py",
   "mimetype": "text/x-python",
   "name": "python",
   "nbconvert_exporter": "python",
   "pygments_lexer": "ipython3",
   "version": "3.8.10"
  },
  "orig_nbformat": 4,
  "vscode": {
   "interpreter": {
    "hash": "2f394aca7ca06fed1e6064aef884364492d7cdda3614a461e02e6407fc40ba69"
   }
  }
 },
 "nbformat": 4,
 "nbformat_minor": 2
}
